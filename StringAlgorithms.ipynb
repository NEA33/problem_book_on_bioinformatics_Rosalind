{
 "cells": [
  {
   "cell_type": "markdown",
   "metadata": {},
   "source": [
    "1. Counting DNA Nucleotides\n",
    "\n",
    "A string is simply an ordered collection of symbols selected from some alphabet and formed into a word; the length of a string is the number of symbols that it contains.\n",
    "\n",
    "An example of a length 21 DNA string (whose alphabet contains the symbols 'A', 'C', 'G', and 'T') is \"ATGCTTCAGAAAGGTCTTACG.\"\n",
    "\n",
    "Given: A DNA string ss of length at most 1000 nt.\n",
    "\n",
    "Return: Four integers (separated by spaces) counting the respective number of times that the symbols 'A', 'C', 'G', and 'T' occur in ss."
   ]
  },
  {
   "cell_type": "code",
   "execution_count": 15,
   "metadata": {},
   "outputs": [],
   "source": [
    "def count_nucleotides (file_in, file_out):\n",
    "    with open(file_in, 'r') as f:\n",
    "        st_dna = f.readline()\n",
    "    n = len(st_dna)\n",
    "    count = []\n",
    "    count.append(st_dna.count('A'))\n",
    "    count.append(st_dna.count('C'))\n",
    "    count.append(st_dna.count('G'))\n",
    "    count.append(st_dna.count('T'))\n",
    "    with open(file_out, 'w') as f:\n",
    "        for i in count:\n",
    "            if (i == count[-1]):\n",
    "                f.write(str(i))\n",
    "            else:\n",
    "                f.write(str(i) + ' ')"
   ]
  },
  {
   "cell_type": "markdown",
   "metadata": {},
   "source": [
    "2. Transcribing DNA into RNA\n",
    "\n",
    "An RNA string is a string formed from the alphabet containing 'A', 'C', 'G', and 'U'.\n",
    "\n",
    "Given a DNA string tt corresponding to a coding strand, its transcribed RNA string uu is formed by replacing all occurrences of 'T' in tt with 'U' in uu.\n",
    "\n",
    "Given: A DNA string tt having length at most 1000 nt.\n",
    "\n",
    "Return: The transcribed RNA string of tt."
   ]
  },
  {
   "cell_type": "code",
   "execution_count": 27,
   "metadata": {},
   "outputs": [],
   "source": [
    "import re\n",
    "def dna_to_rna (file_in, file_out):\n",
    "    with open(file_in, 'r') as f:\n",
    "        st_dna = f.readline()\n",
    "    st_rna = re.sub('T', 'U', st_dna)\n",
    "    with open(file_out, 'w') as f:\n",
    "        f.write(st_rna.strip('\\n'))"
   ]
  },
  {
   "cell_type": "markdown",
   "metadata": {},
   "source": [
    "3. Complementing a Strand of DNA\n",
    "\n",
    "In DNA strings, symbols 'A' and 'T' are complements of each other, as are 'C' and 'G'.\n",
    "\n",
    "The reverse complement of a DNA string ss is the string scsc formed by reversing the symbols of ss, then taking the complement of each symbol (e.g., the reverse complement of \"GTCA\" is \"TGAC\").\n",
    "\n",
    "Given: A DNA string ss of length at most 1000 bp.\n",
    "\n",
    "Return: The reverse complement scsc of ss."
   ]
  },
  {
   "cell_type": "code",
   "execution_count": 30,
   "metadata": {},
   "outputs": [],
   "source": [
    "import re\n",
    "def revers_compl_dna(file_in, file_out):\n",
    "    with open(file_in, 'r') as f:\n",
    "        st_dna = f.readline()\n",
    "    kn = re.sub('C', 'N', re.sub('A', 'K', st_dna))\n",
    "    with open(file_out, 'w') as f:\n",
    "        f.write((re.sub('K', 'T', re.sub('N', 'G', re.sub('T', 'A', re.sub('G', 'C', kn)))))[::-1].strip('\\n'))"
   ]
  },
  {
   "cell_type": "markdown",
   "metadata": {},
   "source": [
    "4. Computing GC Content \n",
    "\n",
    "The GC-content of a DNA string is given by the percentage of symbols in the string that are 'C' or 'G'. For example, the GC-content of \"AGCTATAG\" is 37.5%. Note that the reverse complement of any DNA string has the same GC-content.\n",
    "\n",
    "DNA strings must be labeled when they are consolidated into a database. A commonly used method of string labeling is called FASTA format. In this format, the string is introduced by a line that begins with '>', followed by some labeling information. Subsequent lines contain the string itself; the first line to begin with '>' indicates the label of the next string.\n",
    "\n",
    "In Rosalind's implementation, a string in FASTA format will be labeled by the ID \"Rosalind_xxxx\", where \"xxxx\" denotes a four-digit code between 0000 and 9999.\n",
    "\n",
    "Given: At most 10 DNA strings in FASTA format (of length at most 1 kbp each).\n",
    "\n",
    "Return: The ID of the string having the highest GC-content, followed by the GC-content of that string. Rosalind allows for a default error of 0.001 in all decimal answers unless otherwise stated; please see the note on absolute error below."
   ]
  },
  {
   "cell_type": "code",
   "execution_count": 36,
   "metadata": {},
   "outputs": [],
   "source": [
    "import re\n",
    "def percenCG(st_dna):\n",
    "    n = len(st_dna)\n",
    "    m = st_dna.count('C') + st_dna.count('G')\n",
    "    return m*100./n\n",
    "\n",
    "def top_percenCG(file_in, file_out):\n",
    "    with open(file_in, 'r') as f:\n",
    "        list_name = []\n",
    "        list_dna = []\n",
    "        str_dna = \"\"\n",
    "        for line in f:\n",
    "            if (line[0] == '>'):\n",
    "                list_dna.append(str_dna)\n",
    "                str_dna = \"\"\n",
    "                list_name.append(line[1:-1])\n",
    "            else:\n",
    "                str_dna += line[:-1]\n",
    "        list_dna.append(str_dna)\n",
    "        list_dna = list_dna[1:]\n",
    "    maxCG = percenCG(list_dna[0])\n",
    "    maxi = 0\n",
    "    for i in range(1,len(list_name)):\n",
    "        n = percenCG(list_dna[i])\n",
    "        if (maxCG < n):\n",
    "            maxCG = n\n",
    "            maxi = i\n",
    "    with open(file_out, 'w') as f:\n",
    "        f.write(list_name[maxi] + '\\n' + str(maxCG))"
   ]
  },
  {
   "cell_type": "markdown",
   "metadata": {},
   "source": [
    "5. Finding a Motif in DNA\n",
    "\n",
    "Given two strings ss and tt, tt is a substring of ss if tt is contained as a contiguous collection of symbols in ss (as a result, tt must be no longer than ss).\n",
    "\n",
    "position of a symbol in a string is the total number of symbols found to its left, including itself (e.g., the positions of all occurrences of 'U' in \"AUGCUUCAGAAAGGUCUUACG\" are 2, 5, 6, 15, 17, and 18). The symbol at position ii of ss is denoted by s[i]s[i].\n",
    "\n",
    "A substring of ss can be represented as s[j:k]s[j:k], where jj and kk represent the starting and ending positions of the substring in ss; for example, if ss = \"AUGCUUCAGAAAGGUCUUACG\", then s[2:5]s[2:5] = \"UGCU\".\n",
    "\n",
    "location of a substring s[j:k]s[j:k] is its beginning position jj; note that tt will have multiple locations in ss if it occurs more than once as a substring of ss (see the Sample below).\n",
    "\n",
    "Given: Two DNA strings ss and tt (each of length at most 1 kbp).\n",
    "\n",
    "Return: All locations of tt as a substring of ss."
   ]
  },
  {
   "cell_type": "code",
   "execution_count": 60,
   "metadata": {},
   "outputs": [],
   "source": [
    "def tSubstrS (file_in, file_out):\n",
    "    with open(file_in, 'r') as f:\n",
    "        s = f.readline()[:-1]\n",
    "        t = f.readline()[:-1]\n",
    "    k = []\n",
    "    i = 0\n",
    "    while (t in s):\n",
    "        n = s.find(t) + 1\n",
    "        s = s[n:]\n",
    "        i += n\n",
    "        k.append(i)\n",
    "    with open(file_out, 'w') as f:\n",
    "        for i in k:\n",
    "            if (i == k[-1]):\n",
    "                f.write(str(i))\n",
    "            else:\n",
    "                f.write(str(i) + ' ')"
   ]
  }
 ],
 "metadata": {
  "kernelspec": {
   "display_name": "Python 3",
   "language": "python",
   "name": "python3"
  },
  "language_info": {
   "codemirror_mode": {
    "name": "ipython",
    "version": 3
   },
   "file_extension": ".py",
   "mimetype": "text/x-python",
   "name": "python",
   "nbconvert_exporter": "python",
   "pygments_lexer": "ipython3",
   "version": "3.6.9"
  }
 },
 "nbformat": 4,
 "nbformat_minor": 4
}
