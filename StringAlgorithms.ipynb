{
 "cells": [
  {
   "cell_type": "markdown",
   "metadata": {},
   "source": [
    "1. Counting DNA Nucleotides"
   ]
  },
  {
   "cell_type": "code",
   "execution_count": 15,
   "metadata": {},
   "outputs": [],
   "source": [
    "def count_nucleotides (file_in, file_out):\n",
    "    with open(file_in, 'r') as f:\n",
    "        st_dna = f.readline()\n",
    "    n = len(st_dna)\n",
    "    count = []\n",
    "    count.append(st_dna.count('A'))\n",
    "    count.append(st_dna.count('C'))\n",
    "    count.append(st_dna.count('G'))\n",
    "    count.append(st_dna.count('T'))\n",
    "    with open(file_out, 'w') as f:\n",
    "        for i in count:\n",
    "            if (i == count[-1]):\n",
    "                f.write(str(i))\n",
    "            else:\n",
    "                f.write(str(i) + ' ')"
   ]
  },
  {
   "cell_type": "markdown",
   "metadata": {},
   "source": [
    "2. Transcribing DNA into RNA"
   ]
  },
  {
   "cell_type": "code",
   "execution_count": 27,
   "metadata": {},
   "outputs": [],
   "source": [
    "import re\n",
    "def dna_to_rna (file_in, file_out):\n",
    "    with open(file_in, 'r') as f:\n",
    "        st_dna = f.readline()\n",
    "    st_rna = re.sub('T', 'U', st_dna)\n",
    "    with open(file_out, 'w') as f:\n",
    "        f.write(st_rna.strip('\\n'))"
   ]
  },
  {
   "cell_type": "markdown",
   "metadata": {},
   "source": [
    "3. Complementing a Strand of DNA"
   ]
  },
  {
   "cell_type": "code",
   "execution_count": 30,
   "metadata": {},
   "outputs": [],
   "source": [
    "import re\n",
    "def revers_compl_dna(file_in, file_out):\n",
    "    with open(file_in, 'r') as f:\n",
    "        st_dna = f.readline()\n",
    "    kn = re.sub('C', 'N', re.sub('A', 'K', st_dna))\n",
    "    with open(file_out, 'w') as f:\n",
    "        f.write((re.sub('K', 'T', re.sub('N', 'G', re.sub('T', 'A', re.sub('G', 'C', kn)))))[::-1].strip('\\n'))"
   ]
  },
  {
   "cell_type": "markdown",
   "metadata": {},
   "source": [
    "4. Computing GC Content "
   ]
  },
  {
   "cell_type": "code",
   "execution_count": 36,
   "metadata": {},
   "outputs": [],
   "source": [
    "import re\n",
    "def percenCG(st_dna):\n",
    "    n = len(st_dna)\n",
    "    m = st_dna.count('C') + st_dna.count('G')\n",
    "    return m*100./n\n",
    "\n",
    "def top_percenCG(file_in, file_out):\n",
    "    with open(file_in, 'r') as f:\n",
    "        list_name = []\n",
    "        list_dna = []\n",
    "        str_dna = \"\"\n",
    "        for line in f:\n",
    "            if (line[0] == '>'):\n",
    "                list_dna.append(str_dna)\n",
    "                str_dna = \"\"\n",
    "                list_name.append(line[1:-1])\n",
    "            else:\n",
    "                str_dna += line[:-1]\n",
    "        list_dna.append(str_dna)\n",
    "        list_dna = list_dna[1:]\n",
    "    maxCG = percenCG(list_dna[0])\n",
    "    maxi = 0\n",
    "    for i in range(1,len(list_name)):\n",
    "        n = percenCG(list_dna[i])\n",
    "        if (maxCG < n):\n",
    "            maxCG = n\n",
    "            maxi = i\n",
    "    with open(file_out, 'w') as f:\n",
    "        f.write(list_name[maxi] + '\\n' + str(maxCG))"
   ]
  },
  {
   "cell_type": "markdown",
   "metadata": {},
   "source": [
    "5. Finding a Motif in DNA"
   ]
  },
  {
   "cell_type": "code",
   "execution_count": 60,
   "metadata": {},
   "outputs": [],
   "source": [
    "def tSubstrS (file_in, file_out):\n",
    "    with open(file_in, 'r') as f:\n",
    "        s = f.readline()[:-1]\n",
    "        t = f.readline()[:-1]\n",
    "    k = []\n",
    "    i = 0\n",
    "    while (t in s):\n",
    "        n = s.find(t) + 1\n",
    "        s = s[n:]\n",
    "        i += n\n",
    "        k.append(i)\n",
    "    with open(file_out, 'w') as f:\n",
    "        for i in k:\n",
    "            if (i == k[-1]):\n",
    "                f.write(str(i))\n",
    "            else:\n",
    "                f.write(str(i) + ' ')"
   ]
  }
 ],
 "metadata": {
  "kernelspec": {
   "display_name": "Python 3",
   "language": "python",
   "name": "python3"
  },
  "language_info": {
   "codemirror_mode": {
    "name": "ipython",
    "version": 3
   },
   "file_extension": ".py",
   "mimetype": "text/x-python",
   "name": "python",
   "nbconvert_exporter": "python",
   "pygments_lexer": "ipython3",
   "version": "3.6.9"
  }
 },
 "nbformat": 4,
 "nbformat_minor": 4
}
