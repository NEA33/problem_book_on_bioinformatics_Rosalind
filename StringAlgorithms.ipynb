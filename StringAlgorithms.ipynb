{
 "cells": [
  {
   "cell_type": "markdown",
   "metadata": {},
   "source": [
    "Counting DNA Nucleotides"
   ]
  },
  {
   "cell_type": "code",
   "execution_count": 15,
   "metadata": {},
   "outputs": [],
   "source": [
    "def count_nucleotides (file_in, file_out):\n",
    "    with open(file_in, 'r') as f:\n",
    "        st_dna = f.readline()\n",
    "    n = len(st_dna)\n",
    "    count = []\n",
    "    count.append(st_dna.count('A'))\n",
    "    count.append(st_dna.count('C'))\n",
    "    count.append(st_dna.count('G'))\n",
    "    count.append(st_dna.count('T'))\n",
    "    with open(file_out, 'w') as f:\n",
    "        for i in count:\n",
    "            if (i == count[-1]):\n",
    "                f.write(str(i))\n",
    "            else:\n",
    "                f.write(str(i) + ' ')"
   ]
  },
  {
   "cell_type": "markdown",
   "metadata": {},
   "source": [
    "Transcribing DNA into RNA"
   ]
  },
  {
   "cell_type": "code",
   "execution_count": 18,
   "metadata": {},
   "outputs": [],
   "source": [
    "import re\n",
    "def dna_to_rna (file_in, file_out):\n",
    "    with open(file_in, 'r') as f:\n",
    "        st_dna = f.readline()\n",
    "    st_rna = re.sub('T', 'U', st_dna)\n",
    "    with open(file_out, 'w') as f:\n",
    "        f.write(st_rna)"
   ]
  }
 ],
 "metadata": {
  "kernelspec": {
   "display_name": "Python 3",
   "language": "python",
   "name": "python3"
  },
  "language_info": {
   "codemirror_mode": {
    "name": "ipython",
    "version": 3
   },
   "file_extension": ".py",
   "mimetype": "text/x-python",
   "name": "python",
   "nbconvert_exporter": "python",
   "pygments_lexer": "ipython3",
   "version": "3.6.9"
  }
 },
 "nbformat": 4,
 "nbformat_minor": 4
}
