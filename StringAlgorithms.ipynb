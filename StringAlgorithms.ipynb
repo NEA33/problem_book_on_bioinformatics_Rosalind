{
 "cells": [
  {
   "cell_type": "code",
   "execution_count": 12,
   "metadata": {},
   "outputs": [],
   "source": [
    "import re\n",
    "import numpy as np"
   ]
  },
  {
   "cell_type": "code",
   "execution_count": 13,
   "metadata": {},
   "outputs": [],
   "source": [
    "def read_fasta(file_in):\n",
    "    list_name = []\n",
    "    list_dna = []\n",
    "    str_dna = \"\"\n",
    "    with open(file_in, 'r') as f:\n",
    "        for line in f:\n",
    "            if (line[0] == '>'):\n",
    "                list_dna.append(str_dna)\n",
    "                str_dna = \"\"\n",
    "                list_name.append(line[1:-1])\n",
    "            else:\n",
    "                str_dna += line[:-1]\n",
    "        list_dna.append(str_dna)\n",
    "        list_dna = list_dna[1:]\n",
    "    return (list_name, list_dna)"
   ]
  },
  {
   "cell_type": "markdown",
   "metadata": {},
   "source": [
    "## Counting DNA Nucleotides\n",
    "\n",
    "A string is simply an ordered collection of symbols selected from some alphabet and formed into a word; the length of a string is the number of symbols that it contains.\n",
    "\n",
    "An example of a length 21 DNA string (whose alphabet contains the symbols 'A', 'C', 'G', and 'T') is \"ATGCTTCAGAAAGGTCTTACG.\"\n",
    "\n",
    "Given: A DNA string ss of length at most 1000 nt.\n",
    "\n",
    "Return: Four integers (separated by spaces) counting the respective number of times that the symbols 'A', 'C', 'G', and 'T' occur in ss."
   ]
  },
  {
   "cell_type": "code",
   "execution_count": 55,
   "metadata": {},
   "outputs": [],
   "source": [
    "def count_nucleotides (st_dna):\n",
    "    n = len(st_dna)\n",
    "    count = []\n",
    "    count.append(st_dna.count('A'))\n",
    "    count.append(st_dna.count('C'))\n",
    "    count.append(st_dna.count('G'))\n",
    "    count.append(st_dna.count('T'))\n",
    "    return (count)"
   ]
  },
  {
   "cell_type": "code",
   "execution_count": 56,
   "metadata": {},
   "outputs": [],
   "source": [
    "def counting_dna_nucleotides(file_in, file_out):\n",
    "    with open(file_in, 'r') as f:\n",
    "        st_dna = f.readline()\n",
    "    count = count_nucleotides(st_dna)\n",
    "    with open(file_out, 'w') as f:\n",
    "        for i in count:\n",
    "            if (i == count[-1]):\n",
    "                f.write(str(i))\n",
    "            else:\n",
    "                f.write(str(i) + ' ')"
   ]
  },
  {
   "cell_type": "markdown",
   "metadata": {},
   "source": [
    "## Transcribing DNA into RNA\n",
    "\n",
    "An RNA string is a string formed from the alphabet containing 'A', 'C', 'G', and 'U'.\n",
    "\n",
    "Given a DNA string tt corresponding to a coding strand, its transcribed RNA string uu is formed by replacing all occurrences of 'T' in tt with 'U' in uu.\n",
    "\n",
    "Given: A DNA string tt having length at most 1000 nt.\n",
    "\n",
    "Return: The transcribed RNA string of tt."
   ]
  },
  {
   "cell_type": "code",
   "execution_count": 53,
   "metadata": {},
   "outputs": [],
   "source": [
    "def dna_into_rna (st_dna):\n",
    "    return (re.sub('T', 'U', st_dna))"
   ]
  },
  {
   "cell_type": "code",
   "execution_count": 54,
   "metadata": {},
   "outputs": [],
   "source": [
    "def transcribing_dns_into_rna(file_in, file_out):\n",
    "    with open(file_in, 'r') as f:\n",
    "        st_dna = f.readline()\n",
    "    st_rna = dna_into_rna(st_dna)\n",
    "    with open(file_out, 'w') as f:\n",
    "        f.write(st_rna.strip('\\n'))"
   ]
  },
  {
   "cell_type": "markdown",
   "metadata": {},
   "source": [
    "## Complementing a Strand of DNA\n",
    "\n",
    "In DNA strings, symbols 'A' and 'T' are complements of each other, as are 'C' and 'G'.\n",
    "\n",
    "The reverse complement of a DNA string ss is the string scsc formed by reversing the symbols of ss, then taking the complement of each symbol (e.g., the reverse complement of \"GTCA\" is \"TGAC\").\n",
    "\n",
    "Given: A DNA string ss of length at most 1000 bp.\n",
    "\n",
    "Return: The reverse complement scsc of ss."
   ]
  },
  {
   "cell_type": "code",
   "execution_count": 30,
   "metadata": {},
   "outputs": [],
   "source": [
    "def revers_compl_dna(file_in, file_out):\n",
    "    with open(file_in, 'r') as f:\n",
    "        st_dna = f.readline()\n",
    "    kn = re.sub('C', 'N', re.sub('A', 'K', st_dna))\n",
    "    with open(file_out, 'w') as f:\n",
    "        f.write((re.sub('K', 'T', re.sub('N', 'G', re.sub('T', 'A', re.sub('G', 'C', kn)))))[::-1].strip('\\n'))"
   ]
  },
  {
   "cell_type": "markdown",
   "metadata": {},
   "source": [
    "## Computing GC Content \n",
    "\n",
    "The GC-content of a DNA string is given by the percentage of symbols in the string that are 'C' or 'G'. For example, the GC-content of \"AGCTATAG\" is 37.5%. Note that the reverse complement of any DNA string has the same GC-content.\n",
    "\n",
    "DNA strings must be labeled when they are consolidated into a database. A commonly used method of string labeling is called FASTA format. In this format, the string is introduced by a line that begins with '>', followed by some labeling information. Subsequent lines contain the string itself; the first line to begin with '>' indicates the label of the next string.\n",
    "\n",
    "In Rosalind's implementation, a string in FASTA format will be labeled by the ID \"Rosalind_xxxx\", where \"xxxx\" denotes a four-digit code between 0000 and 9999.\n",
    "\n",
    "Given: At most 10 DNA strings in FASTA format (of length at most 1 kbp each).\n",
    "\n",
    "Return: The ID of the string having the highest GC-content, followed by the GC-content of that string. Rosalind allows for a default error of 0.001 in all decimal answers unless otherwise stated; please see the note on absolute error below."
   ]
  },
  {
   "cell_type": "code",
   "execution_count": 6,
   "metadata": {},
   "outputs": [],
   "source": [
    "def percenCG(st_dna):\n",
    "    n = len(st_dna)\n",
    "    m = st_dna.count('C') + st_dna.count('G')\n",
    "    return m*100./n\n",
    "\n",
    "def top_percenCG(file_in, file_out):\n",
    "    list_name, list_dna = read_fasta(file_in)\n",
    "    maxCG = percenCG(list_dna[0])\n",
    "    maxi = 0\n",
    "    for i in range(1,len(list_name)):\n",
    "        n = percenCG(list_dna[i])\n",
    "        if (maxCG < n):\n",
    "            maxCG = n\n",
    "            maxi = i\n",
    "    with open(file_out, 'w') as f:\n",
    "        f.write(list_name[maxi] + '\\n' + str(maxCG))"
   ]
  },
  {
   "cell_type": "markdown",
   "metadata": {},
   "source": [
    "## Finding a Motif in DNA\n",
    "\n",
    "Given two strings s and t, t is a substring of s if t is contained as a contiguous collection of symbols in s (as a result, t must be no longer than s).\n",
    "\n",
    "position of a symbol in a string is the total number of symbols found to its left, including itself (e.g., the positions of all occurrences of 'U' in \"AUGCUUCAGAAAGGUCUUACG\" are 2, 5, 6, 15, 17, and 18). The symbol at position i of s is denoted by s[i].\n",
    "\n",
    "A substring of s can be represented as s[j:k], where j and k represent the starting and ending positions of the substring in s; for example, if s = \"AUGCUUCAGAAAGGUCUUACG\", then s[2:5] = \"UGCU\".\n",
    "\n",
    "location of a substring s[j:k] is its beginning position j; note that t will have multiple locations in s if it occurs more than once as a substring of s (see the Sample below).\n",
    "\n",
    "Given: Two DNA strings s and t (each of length at most 1 kbp).\n",
    "\n",
    "Return: All locations of t as a substring of s."
   ]
  },
  {
   "cell_type": "code",
   "execution_count": 60,
   "metadata": {},
   "outputs": [],
   "source": [
    "def finding_motif_in_dna (file_in, file_out):\n",
    "    with open(file_in, 'r') as f:\n",
    "        s = f.readline()[:-1]\n",
    "        t = f.readline()[:-1]\n",
    "    k = []\n",
    "    i = 0\n",
    "    while (t in s):\n",
    "        n = s.find(t) + 1\n",
    "        s = s[n:]\n",
    "        i += n\n",
    "        k.append(i)\n",
    "    with open(file_out, 'w') as f:\n",
    "        for i in k:\n",
    "            if (i == k[-1]):\n",
    "                f.write(str(i))\n",
    "            else:\n",
    "                f.write(str(i) + ' ')"
   ]
  },
  {
   "cell_type": "markdown",
   "metadata": {},
   "source": [
    "## Consensus and Profile\n",
    "\n",
    "A matrix is a rectangular table of values divided into rows and columns. An m×n matrix has m rows and n columns. Given a matrix A, we write Ai,j to indicate the value found at the intersection of row i and column j.\n",
    "\n",
    "Say that we have a collection of DNA strings, all having the same length n. Their profile matrix is a 4×n matrix P in which P1,j represents the number of times that 'A' occurs in the jth position of one of the strings, P2,j represents the number of times that C occurs in the jth position, and so on (see below).\n",
    "\n",
    "A consensus string c is a string of length n formed from our collection by taking the most common symbol at each position; the jth symbol of c therefore corresponds to the symbol having the maximum value in the j-th column of the profile matrix. Of course, there may be more than one most common symbol, leading to multiple possible consensus strings.\n",
    "\n",
    "Given: A collection of at most 10 DNA strings of equal length (at most 1 kbp) in FASTA format.\n",
    "\n",
    "Return: A consensus string and profile matrix for the collection. (If several possible consensus strings exist, then you may return any one of them.)"
   ]
  },
  {
   "cell_type": "code",
   "execution_count": 51,
   "metadata": {},
   "outputs": [],
   "source": [
    "def consensus_profile (file_in, file_out):\n",
    "    k = 0\n",
    "    list_name, list_dna = read_fasta(file_in)\n",
    "    \n",
    "    n = len(list_dna[0])\n",
    "    profile = {'A':np.zeros(n, dtype = np.int8), 'C':np.zeros(n, dtype = np.int8),\n",
    "               'G':np.zeros(n, dtype = np.int8), 'T':np.zeros(n, dtype = np.int8)}\n",
    "    \n",
    "    for line in list_dna:\n",
    "        for i in range(n):\n",
    "            profile[line[i]][i] += 1\n",
    "    consensus = []  \n",
    "    for i in range(n):\n",
    "        max_i = 0\n",
    "        max_s = 'A'\n",
    "        for key in profile.keys():\n",
    "            if (profile[key][i] > max_i):\n",
    "                max_i = profile[key][i]\n",
    "                max_s = key\n",
    "        consensus.append(max_s)\n",
    "        \n",
    "    with open(file_out, 'w') as f:\n",
    "        for sym in consensus:\n",
    "            f.write(sym)\n",
    "        f.write('\\n')\n",
    "        for key in profile.keys():\n",
    "            f.write(key + ': ')\n",
    "            for val in profile[key]:\n",
    "                f.write(str(val) + ' ')\n",
    "            f.write('\\n')"
   ]
  },
  {
   "cell_type": "markdown",
   "metadata": {},
   "source": [
    "## RNA Splicing\n",
    "\n",
    "After identifying the exons and introns of an RNA string, we only need to delete the introns and concatenate the exons to form a new string ready for translation.\n",
    "\n",
    "Given:DNA string s (of length at most 1 kbp) and a collection of substrings of s acting as introns. All strings are given in FASTA format.\n",
    "\n",
    "Return:protein string resulting from transcribing and translating the exons of s. (Note: Only one solution will exist for the dataset provided.)"
   ]
  },
  {
   "cell_type": "code",
   "execution_count": 62,
   "metadata": {},
   "outputs": [],
   "source": [
    "rnaToProtein = {'UUU': 'F', 'CUU': 'L', 'AUU': 'I', 'GUU': 'V',\n",
    "'UUC': 'F',      'CUC': 'L',      'AUC': 'I',      'GUC': 'V',\n",
    "'UUA': 'L',     'CUA': 'L',      'AUA': 'I',      'GUA': 'V',\n",
    "'UUG': 'L',     'CUG': 'L',      'AUG': 'M',      'GUG': 'V',\n",
    "'UCU': 'S',     'CCU': 'P',      'ACU': 'T',      'GCU': 'A',\n",
    "'UCC': 'S',      'CCC': 'P',      'ACC': 'T',      'GCC': 'A',\n",
    "'UCA': 'S',      'CCA': 'P',      'ACA': 'T',      'GCA': 'A',\n",
    "'UCG': 'S',      'CCG': 'P',      'ACG': 'T',      'GCG': 'A',\n",
    "'UAU': 'Y',      'CAU': 'H',      'AAU': 'N',      'GAU': 'D',\n",
    "'UAC': 'Y',      'CAC': 'H',      'AAC': 'N',      'GAC': 'D',\n",
    "'UAA': 'Stop',   'CAA': 'Q',      'AAA': 'K',      'GAA': 'E',\n",
    "'UAG': 'Stop',   'CAG': 'Q',      'AAG': 'K',      'GAG': 'E',\n",
    "'UGU': 'C',      'CGU': 'R',      'AGU': 'S',      'GGU': 'G',\n",
    "'UGC': 'C',      'CGC': 'R',      'AGC': 'S',      'GGC': 'G',\n",
    "'UGA': 'Stop',   'CGA': 'R',      'AGA': 'R',      'GGA': 'G',\n",
    "'UGG': 'W',      'CGG': 'R',      'AGG': 'R',      'GGG': 'G' }"
   ]
  },
  {
   "cell_type": "code",
   "execution_count": 66,
   "metadata": {},
   "outputs": [],
   "source": [
    "def rna_to_protein(st_rna):\n",
    "    st_protein = \"\"\n",
    "    while (st_rna != \"\"):\n",
    "        triple = st_rna[:3]\n",
    "        st_rna = st_rna[3:]\n",
    "        protein = rnaToProtein[triple]\n",
    "        if (protein == 'Stop'):\n",
    "            break\n",
    "        st_protein += protein\n",
    "    return st_protein"
   ]
  },
  {
   "cell_type": "code",
   "execution_count": 71,
   "metadata": {},
   "outputs": [],
   "source": [
    "def rna_splicing(file_in, file_out):\n",
    "    list_name, list_dna = read_fasta(file_in)\n",
    "    list_rna = []\n",
    "    st_dna = list_dna[0]\n",
    "    introns = list_dna[1:]\n",
    "    \n",
    "    for intron in introns:\n",
    "        while (intron in st_dna):\n",
    "            index = st_dna.find(intron)\n",
    "            n = len(intron)\n",
    "            st_dna = st_dna[:index] + st_dna[index + n:]\n",
    "    st_rna = dna_into_rna(st_dna)\n",
    "    st_protein = rna_to_protein(st_rna)\n",
    "    with open(file_out, 'w') as f:\n",
    "        f.write(st_protein)"
   ]
  },
  {
   "cell_type": "markdown",
   "metadata": {},
   "source": [
    "## Finding a Shared Motif\n",
    "\n",
    "common substring of a collection of strings is a substring of every member of the collection. We say that a common substring is a longest common substring if there does not exist a longer common substring. For example, \"CG\" is a common substring of \"ACGTACGT\" and \"AACCGTATA\", but it is not as long as possible; in this case, \"CGTA\" is a longest common substring of \"ACGTACGT\" and \"AACCGTATA\".\n",
    "\n",
    "Note that the longest common substring is not necessarily unique; for a simple example, \"AA\" and \"CC\" are both longest common substrings of \"AACC\" and \"CCAA\".\n",
    "\n",
    "Given: A collection of k (k≤100) DNA strings of length at most 1 kbp each in FASTA format.\n",
    "\n",
    "Return: A longest common substring of the collection. (If multiple solutions exist, you may return any single solution.)"
   ]
  },
  {
   "cell_type": "code",
   "execution_count": 23,
   "metadata": {},
   "outputs": [],
   "source": [
    "def finding_shared_motif(file_in, file_out):\n",
    "    list_name, list_dna = read_fasta(file_in)\n",
    "    min_dna = list_dna[0]\n",
    "    for st_dna in list_dna:\n",
    "        if (len(st_dna) < len(min_dna)):\n",
    "            min_dna = st_dna\n",
    "    list_dna.remove(min_dna)\n",
    "    n = len(min_dna)\n",
    "    find = False\n",
    "    for i in range(n-1):\n",
    "        for j in range(i+1):\n",
    "            st_sub = min_dna[j:n-i+j] \n",
    "            for st_dna in list_dna:\n",
    "                if (st_sub in st_dna):\n",
    "                    find = True\n",
    "                else:\n",
    "                    find = False\n",
    "                    break\n",
    "            if (find):\n",
    "                break\n",
    "        if (find):\n",
    "            break\n",
    "    with open(file_out, 'w') as f:\n",
    "        f.write(st_sub)"
   ]
  }
 ],
 "metadata": {
  "kernelspec": {
   "display_name": "Python 3",
   "language": "python",
   "name": "python3"
  },
  "language_info": {
   "codemirror_mode": {
    "name": "ipython",
    "version": 3
   },
   "file_extension": ".py",
   "mimetype": "text/x-python",
   "name": "python",
   "nbconvert_exporter": "python",
   "pygments_lexer": "ipython3",
   "version": "3.6.9"
  }
 },
 "nbformat": 4,
 "nbformat_minor": 4
}
